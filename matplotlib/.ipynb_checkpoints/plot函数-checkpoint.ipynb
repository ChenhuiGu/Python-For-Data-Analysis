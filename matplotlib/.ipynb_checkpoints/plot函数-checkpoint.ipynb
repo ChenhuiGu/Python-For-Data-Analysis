{
 "cells": [
  {
   "cell_type": "markdown",
   "metadata": {},
   "source": [
    "### Matplotlib库"
   ]
  },
  {
   "cell_type": "markdown",
   "metadata": {},
   "source": [
    ">使用plot绘制简单曲线"
   ]
  },
  {
   "cell_type": "code",
   "execution_count": null,
   "metadata": {},
   "outputs": [],
   "source": [
    "%pylab\n",
    "import matplotlib.pylab as plt\n",
    "#plt.plot([1,3,4,7,3]) #x轴为索引\n",
    "#plt.ylabel('age')\n",
    "#plt.show()"
   ]
  },
  {
   "cell_type": "code",
   "execution_count": null,
   "metadata": {},
   "outputs": [],
   "source": [
    "plt.plot([8,6,9,5,7],[10,20,25,15,2])\n",
    "plt.axis([4,10,0,30])\n",
    "plt.show()"
   ]
  },
  {
   "cell_type": "markdown",
   "metadata": {},
   "source": [
    ">图形的分区显示"
   ]
  },
  {
   "cell_type": "code",
   "execution_count": null,
   "metadata": {},
   "outputs": [],
   "source": [
    "import matplotlib.pyplot as plt \n",
    "import numpy as np\n",
    "\n",
    "def func(t): #衰减函数\n",
    "    return np.exp(-t)*np.cos(2*np.pi*t)\n",
    "\n",
    "a = np.arange(0,5,0.02)\n",
    "\n",
    "plt.subplot(211)  #2行1列  在区域1\n",
    "plt.plot(a,func(a))\n",
    "\n",
    "plt.subplot(2,1,2) #2行1列  在区域2\n",
    "plt.plot(a,np.cos(2*np.pi*a),'--r') #虚线显示\n",
    "plt.show()"
   ]
  },
  {
   "cell_type": "markdown",
   "metadata": {},
   "source": [
    ">plot函数:颜色字符，风格字符，标记字符"
   ]
  },
  {
   "cell_type": "code",
   "execution_count": null,
   "metadata": {},
   "outputs": [],
   "source": [
    "%pylab\n",
    "import matplotlib.pyplot as plt \n",
    "import numpy as np\n",
    "a = np.arange(5)\n",
    "\n",
    "plt.plot(a,1.5*a,'go-',a,1.8*a,'r*',a,2.4*a,'b^')\n",
    "#不同的字符串，代表着不同的图形风格\n",
    "plt.ylabel('你快闭嘴吧'，fontproperties='SimHei',fontsize=20)\n",
    "#在图像中显示中文字体\n",
    "plt.show()"
   ]
  },
  {
   "cell_type": "markdown",
   "metadata": {},
   "source": [
    ">plot图例的设置，包括标题，标记等，让绘制的图片更加美观"
   ]
  },
  {
   "cell_type": "code",
   "execution_count": 1,
   "metadata": {},
   "outputs": [
    {
     "data": {
      "text/plain": [
       "<matplotlib.figure.Figure at 0x5942a90>"
      ]
     },
     "metadata": {},
     "output_type": "display_data"
    }
   ],
   "source": [
    "import numpy as np\n",
    "import matplotlib.pyplot as plt\n",
    "\n",
    "a = np.arange(0,5,0.02)\n",
    "plt.plot(a,np.cos(2*np.pi*a),'r--')\n",
    "\n",
    "#关于字体的设置，LaTeX的使用，让图片更加美观\n",
    "plt.xlabel('time',fontsize=15,color='green')\n",
    "plt.ylabel('amplitude',fontsize=15)\n",
    "\n",
    "plt.title('$y=cos(2\\pi x)$',fontsize=20,color='red')\n",
    "#plt.text(2,1,'$\\mu=100$',fontproperties='cursive')\n",
    "plt.annotate('$\\mu=100$',xy=(3,1),xytext=(4,1.5),\n",
    "             arrowprops=dict(facecolor='black',shrink=0.055,width=4))\n",
    "\n",
    "plt.axis([-1,6,-2,2])\n",
    "plt.grid('True')\n",
    "plt.show()"
   ]
  },
  {
   "cell_type": "markdown",
   "metadata": {},
   "source": [
    ">产生不同规格的子区域"
   ]
  },
  {
   "cell_type": "markdown",
   "metadata": {},
   "source": [
    "+ 使用subplot2grid方法，将图像分为n*n份，选取其中的一个位置，在行和类上进行合并操作"
   ]
  },
  {
   "cell_type": "code",
   "execution_count": 5,
   "metadata": {},
   "outputs": [],
   "source": [
    "import numpy as np\n",
    "import matplotlib.pyplot as plt\n",
    "\n",
    "# plt.subplot2grid((3,3),(1,0),colspan=2)\n",
    "# #function(),绘制的图像\n",
    "# plt.subplot2grid((3,3),(0,0),colspan=3)\n",
    "# plt.subplot2grid((3,3),(1,2),rowspan=2)\n",
    "# plt.subplot2grid((3,3),(2,0))\n",
    "# plt.subplot2grid((3,3),(2,1))\n",
    "#plt.show()"
   ]
  },
  {
   "cell_type": "markdown",
   "metadata": {},
   "source": [
    "+ 利用gridspec将图片进行分割，使用subplot进行图形的选取"
   ]
  },
  {
   "cell_type": "code",
   "execution_count": null,
   "metadata": {},
   "outputs": [],
   "source": [
    "import numpy as np\n",
    "import matplotlib.pyplot as plt\n",
    "import matplotlib.gridspec as gridspec\n",
    "\n",
    "gs1 = gridspec.GridSpec(3,3)\n",
    "\n",
    "#subplot将区域分为n*n分，选取位置进行显示\n",
    "ax1 = plt.subplot(gs[0,:])\n",
    "ax2 = plt.subplot(gs[1,:-1])\n",
    "ax3 = plt.subplot(gs[1:,-1])\n",
    "ax4 = plt.subplot(gs[2,0])\n",
    "ax5 = plt.subplot(gs[2,1])"
   ]
  }
 ],
 "metadata": {
  "kernelspec": {
   "display_name": "Python 3",
   "language": "python",
   "name": "python3"
  },
  "language_info": {
   "codemirror_mode": {
    "name": "ipython",
    "version": 3
   },
   "file_extension": ".py",
   "mimetype": "text/x-python",
   "name": "python",
   "nbconvert_exporter": "python",
   "pygments_lexer": "ipython3",
   "version": "3.6.4"
  }
 },
 "nbformat": 4,
 "nbformat_minor": 2
}
