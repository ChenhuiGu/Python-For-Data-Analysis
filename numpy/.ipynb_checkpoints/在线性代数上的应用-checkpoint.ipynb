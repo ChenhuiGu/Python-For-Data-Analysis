{
 "cells": [
  {
   "cell_type": "markdown",
   "metadata": {},
   "source": [
    "### 线性代数"
   ]
  },
  {
   "cell_type": "markdown",
   "metadata": {},
   "source": [
    ">关于矩阵的运算"
   ]
  },
  {
   "cell_type": "code",
   "execution_count": 23,
   "metadata": {},
   "outputs": [],
   "source": [
    "import numpy as np\n",
    "from numpy.linalg import *"
   ]
  },
  {
   "cell_type": "code",
   "execution_count": 18,
   "metadata": {},
   "outputs": [
    {
     "data": {
      "text/plain": [
       "array([[0.44559947, 0.2744078 , 0.6411113 , 0.52099596],\n",
       "       [0.0667758 , 0.70985683, 0.513945  , 0.84765818],\n",
       "       [0.80161652, 0.47789518, 0.72695444, 0.14005392],\n",
       "       [0.58179892, 0.96130228, 0.33840022, 0.13962378]])"
      ]
     },
     "execution_count": 18,
     "metadata": {},
     "output_type": "execute_result"
    }
   ],
   "source": [
    "arr1 = np.random.rand(4,4)\n",
    "arr2 = np.arange(4)\n",
    "arr1"
   ]
  },
  {
   "cell_type": "code",
   "execution_count": 17,
   "metadata": {},
   "outputs": [
    {
     "data": {
      "text/plain": [
       "array([3.34743052, 3.16305972, 3.33162939, 3.56702616])"
      ]
     },
     "execution_count": 17,
     "metadata": {},
     "output_type": "execute_result"
    }
   ],
   "source": [
    "#矩阵相乘 dot 既是函数也是方法 \n",
    "arr1.dot(arr2)  #np.dot(arr1,arr2) "
   ]
  },
  {
   "cell_type": "code",
   "execution_count": 37,
   "metadata": {},
   "outputs": [
    {
     "data": {
      "text/plain": [
       "array([-3.88128013,  4.43518188,  5.14593   , -5.34872862])"
      ]
     },
     "execution_count": 37,
     "metadata": {},
     "output_type": "execute_result"
    }
   ],
   "source": [
    "# diag()\n",
    "inv(arr1)  #方阵的逆\n",
    "# trace(arr1)\n",
    "arr2 == arr2.T #一维数组没有转置\n",
    "det(arr1) #行列式 线性变换的放大率\n",
    "eig(arr1) #计算方阵的本征值和本征向量\n",
    "pinv(arr1) #伪逆 不可逆矩阵\n",
    "qr(arr1)  #QR分解\n",
    "svd(arr1) #奇异值分解\n",
    "solve(arr1,arr2) #Ax=b的解 A为方阵\n",
    "#lstsq()  #最小二乘解"
   ]
  },
  {
   "cell_type": "markdown",
   "metadata": {},
   "source": [
    ">了解的若干概念：\n",
    "\n",
    ">行列式\n",
    "\n",
    ">傅里叶变换\n",
    "\n",
    ">消元"
   ]
  },
  {
   "cell_type": "code",
   "execution_count": null,
   "metadata": {},
   "outputs": [],
   "source": []
  }
 ],
 "metadata": {
  "kernelspec": {
   "display_name": "Python 3",
   "language": "python",
   "name": "python3"
  },
  "language_info": {
   "codemirror_mode": {
    "name": "ipython",
    "version": 3
   },
   "file_extension": ".py",
   "mimetype": "text/x-python",
   "name": "python",
   "nbconvert_exporter": "python",
   "pygments_lexer": "ipython3",
   "version": "3.6.4"
  }
 },
 "nbformat": 4,
 "nbformat_minor": 2
}
