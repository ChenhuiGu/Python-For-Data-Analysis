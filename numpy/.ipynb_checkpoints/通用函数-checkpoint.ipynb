{
 "cells": [
  {
   "cell_type": "markdown",
   "metadata": {},
   "source": [
    "## 通用函数：元素级数组函数 "
   ]
  },
  {
   "cell_type": "markdown",
   "metadata": {},
   "source": [
    ">简单函数的矢量化包装"
   ]
  },
  {
   "cell_type": "markdown",
   "metadata": {},
   "source": [
    "### 一元 ufunc"
   ]
  },
  {
   "cell_type": "code",
   "execution_count": 72,
   "metadata": {},
   "outputs": [
    {
     "name": "stdout",
     "output_type": "stream",
     "text": [
      "[ 1  2  3  4  5  6  7  8  9 10] [-1.37544153 -0.20810066  0.61988489 -0.86691909 -0.06040985  0.1406421\n",
      "  0.23186512] [ 1.59319049 -1.18322396 -2.09500911 -1.07261903  0.77162433  0.46746781\n",
      " -1.12717073]\n"
     ]
    }
   ],
   "source": [
    "import numpy as np\n",
    "arr = np.arange(1,11)\n",
    "x = np.random.randn(7)\n",
    "y  = np.random.randn(7)\n",
    "print(arr,x,y)"
   ]
  },
  {
   "cell_type": "code",
   "execution_count": 73,
   "metadata": {},
   "outputs": [
    {
     "data": {
      "text/plain": [
       "array([1.59319049, 1.18322396, 2.09500911, 1.07261903, 0.77162433,\n",
       "       0.46746781, 1.12717073])"
      ]
     },
     "execution_count": 73,
     "metadata": {},
     "output_type": "execute_result"
    }
   ],
   "source": [
    "#整数、浮点数、负数绝对值\n",
    "abs(x)\n",
    "np.fabs(y)"
   ]
  },
  {
   "cell_type": "code",
   "execution_count": 74,
   "metadata": {},
   "outputs": [
    {
     "data": {
      "text/plain": [
       "array([0.69314718, 1.09861229, 1.38629436, 1.60943791, 1.79175947,\n",
       "       1.94591015, 2.07944154, 2.19722458, 2.30258509, 2.39789527])"
      ]
     },
     "execution_count": 74,
     "metadata": {},
     "output_type": "execute_result"
    }
   ],
   "source": [
    "#平方根\n",
    "np.sqrt(arr)\n",
    "#平方\n",
    "np.square(arr)\n",
    "#指数ex\n",
    "np.exp(arr)\n",
    "#对数 log10  log2 \n",
    "np.log10(arr)\n",
    "np.log1p(arr) #x + 1"
   ]
  },
  {
   "cell_type": "code",
   "execution_count": 75,
   "metadata": {},
   "outputs": [
    {
     "data": {
      "text/plain": [
       "array([False, False, False, False, False, False, False])"
      ]
     },
     "execution_count": 75,
     "metadata": {},
     "output_type": "execute_result"
    }
   ],
   "source": [
    "#对应元素的正负，返回1，0，-1\n",
    "np.sign(x)\n",
    "np.ceil(x)  #大于元素的最小整数\n",
    "np.floor(x) #小于元素的最小整数\n",
    "np.rint(x) #四舍五入，保留dtype\n",
    "np.modf(x) #返回整数和小数部分，独立的数组\n",
    "np.isnan(x) # 判断是否为数字，不是数字返回True\n",
    "np.isinf(x) #判断哪些是无穷的\n",
    "#np.isfinite(x) #判断哪些是有穷的"
   ]
  },
  {
   "cell_type": "code",
   "execution_count": 76,
   "metadata": {},
   "outputs": [
    {
     "data": {
      "text/plain": [
       "array([1.54308063e+00, 3.76219569e+00, 1.00676620e+01, 2.73082328e+01,\n",
       "       7.42099485e+01, 2.01715636e+02, 5.48317035e+02, 1.49047916e+03,\n",
       "       4.05154203e+03, 1.10132329e+04])"
      ]
     },
     "execution_count": 76,
     "metadata": {},
     "output_type": "execute_result"
    }
   ],
   "source": [
    "#三角函数和反三角函数\n",
    "#cos sin tan\n",
    "#双曲型三角函数  定义域从实数扩展到虚数\n",
    "np.cos(arr)\n",
    "np.cosh(arr)\n",
    "#np.arccos(x)"
   ]
  },
  {
   "cell_type": "code",
   "execution_count": 77,
   "metadata": {},
   "outputs": [
    {
     "data": {
      "text/plain": [
       "False"
      ]
     },
     "execution_count": 77,
     "metadata": {},
     "output_type": "execute_result"
    }
   ],
   "source": [
    "#0为真，其余为假\n",
    "np.logical_not(-1)\n",
    "np.logical_not(0)\n",
    "np.logical_not(1)"
   ]
  },
  {
   "cell_type": "markdown",
   "metadata": {},
   "source": [
    "### 二元ufunc"
   ]
  },
  {
   "cell_type": "code",
   "execution_count": 78,
   "metadata": {},
   "outputs": [
    {
     "data": {
      "text/plain": [
       "array([ 0.21774897, -0.20810066, -1.47512423, -0.86691909,  0.71121448,\n",
       "        0.1406421 , -0.89530561])"
      ]
     },
     "execution_count": 78,
     "metadata": {},
     "output_type": "execute_result"
    }
   ],
   "source": [
    "#加减乘除\n",
    "np.add(x,y)\n",
    "np.multiply(x,y)\n",
    "np.subtract(x,y)\n",
    "np.divide(x,y)\n",
    "np.floor_divide(x,y) #除法的整除\n",
    "# # np.power(x,y)  #A的B次mi\n",
    "np.mod(x,y) #求模 除法的余数"
   ]
  },
  {
   "cell_type": "code",
   "execution_count": 79,
   "metadata": {},
   "outputs": [
    {
     "data": {
      "text/plain": [
       "array([ 1.37544153, -0.20810066, -0.61988489, -0.86691909,  0.06040985,\n",
       "        0.1406421 , -0.23186512])"
      ]
     },
     "execution_count": 79,
     "metadata": {},
     "output_type": "execute_result"
    }
   ],
   "source": [
    "#比较\n",
    "np.maximum(x,y) #元素最大值\n",
    "np.minimum(x,y) #元素最小值\n",
    "np.fmax(x,y)\n",
    "np.fmin(x,y) # 或略数组中的NaN\n",
    "#np.greater np.greater_equal  np.less  np.less_equal np.equal np.not_equal\n",
    "#对应比较运算符 > >= < <= == !=\n",
    "np.copysign(x,y) #将y的符号传给x"
   ]
  },
  {
   "cell_type": "code",
   "execution_count": 80,
   "metadata": {},
   "outputs": [
    {
     "data": {
      "text/plain": [
       "array([False, False, False, False, False, False, False])"
      ]
     },
     "execution_count": 80,
     "metadata": {},
     "output_type": "execute_result"
    }
   ],
   "source": [
    "#逻辑运算\n",
    "#x =np.array([1,0,1,1,1,0,0,1])\n",
    "#y = np.array([1,0,0,1,1,1,0,0])\n",
    "np.logical_and(x,y) #&\n",
    "np.logical_or(x,y)  #|\n",
    "np.logical_xor(x,y) #^异或"
   ]
  }
 ],
 "metadata": {
  "kernelspec": {
   "display_name": "Python 3",
   "language": "python",
   "name": "python3"
  },
  "language_info": {
   "codemirror_mode": {
    "name": "ipython",
    "version": 3
   },
   "file_extension": ".py",
   "mimetype": "text/x-python",
   "name": "python",
   "nbconvert_exporter": "python",
   "pygments_lexer": "ipython3",
   "version": "3.6.4"
  }
 },
 "nbformat": 4,
 "nbformat_minor": 2
}
