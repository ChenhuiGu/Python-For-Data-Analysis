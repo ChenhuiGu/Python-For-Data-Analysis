{
 "cells": [
  {
   "cell_type": "markdown",
   "metadata": {},
   "source": [
    "## 利用数组进行数据处理"
   ]
  },
  {
   "cell_type": "markdown",
   "metadata": {},
   "source": [
    ">矢量化：使用数组代替循环"
   ]
  },
  {
   "cell_type": "markdown",
   "metadata": {},
   "source": [
    "### 计算 $\\sqrt{x^2+y^2}$  "
   ]
  },
  {
   "cell_type": "code",
   "execution_count": 2,
   "metadata": {},
   "outputs": [],
   "source": [
    "#将2个一维数组整合为2个二维数组\n",
    "import numpy as np\n",
    "arr1 = np.array([1,2,3,4,5,6,7,8,9])\n",
    "arr2 = np.array([11,22,33,44,55,66,77,88,99])\n",
    "xs,ys = np.meshgrid(arr1,arr2)"
   ]
  },
  {
   "cell_type": "code",
   "execution_count": 3,
   "metadata": {},
   "outputs": [
    {
     "data": {
      "text/plain": [
       "<matplotlib.colorbar.Colorbar at 0x8811048>"
      ]
     },
     "execution_count": 3,
     "metadata": {},
     "output_type": "execute_result"
    }
   ],
   "source": [
    "import matplotlib.pyplot as plt\n",
    "z = np.sqrt(xs**2 + ys**2)\n",
    "plt.imshow(z,cmap = plt.cm.gray);plt.colorbar()"
   ]
  },
  {
   "cell_type": "markdown",
   "metadata": {},
   "source": [
    "### where函数"
   ]
  },
  {
   "cell_type": "markdown",
   "metadata": {},
   "source": [
    ">np.where(con,x,y) 等价于 三元表达式{x if condition else y} ***con为真取x，否则取y***\n",
    "\n",
    ">根据一个数组产生另一个数组"
   ]
  },
  {
   "cell_type": "code",
   "execution_count": 4,
   "metadata": {},
   "outputs": [],
   "source": [
    "#将矩阵中的赋值替换为2，负值为-2\n",
    "arr = np.random.randn(4,4) #符合正态分布的4*4矩阵"
   ]
  },
  {
   "cell_type": "code",
   "execution_count": 5,
   "metadata": {},
   "outputs": [],
   "source": [
    "#plt.plot(np.cos(np.arange(100),'k--')  #2d折线图"
   ]
  },
  {
   "cell_type": "code",
   "execution_count": 6,
   "metadata": {},
   "outputs": [
    {
     "data": {
      "text/plain": [
       "array([[ 2, -2, -2, -2],\n",
       "       [-2,  2,  2, -2],\n",
       "       [ 2, -2,  2,  2],\n",
       "       [-2, -2, -2,  2]])"
      ]
     },
     "execution_count": 6,
     "metadata": {},
     "output_type": "execute_result"
    }
   ],
   "source": [
    "np.where(arr>0,2,-2)"
   ]
  },
  {
   "cell_type": "markdown",
   "metadata": {},
   "source": [
    ">利用where的多层嵌套可以实现更加复杂的逻辑"
   ]
  },
  {
   "cell_type": "markdown",
   "metadata": {},
   "source": [
    "### 统计方法（聚合函数）"
   ]
  },
  {
   "cell_type": "markdown",
   "metadata": {},
   "source": [
    ">对整个数组或者某个轴向上的数据进行统计计算，约简（reduction）"
   ]
  },
  {
   "cell_type": "code",
   "execution_count": 7,
   "metadata": {},
   "outputs": [],
   "source": [
    "arr3 = np.ara"
   ]
  },
  {
   "cell_type": "code",
   "execution_count": 9,
   "metadata": {},
   "outputs": [
    {
     "data": {
      "text/plain": [
       "1031.6666666666667"
      ]
     },
     "execution_count": 9,
     "metadata": {},
     "output_type": "execute_result"
    }
   ],
   "source": [
    "arr3.sum() #元素和，零长度为O\n",
    "arr3.sum(1) #axis0 行方向 求和\n",
    "arr3.mean() #算术平均数540/18\n",
    "arr3.min()\n",
    "arr3.max()#最值\n",
    "arr.argmax()\n",
    "#arr3.argmin() #返回索引（如何？）\n",
    "arr3.cumsum(1)#不聚和，产生中间结果\n",
    "# arr3.cumprod(0)#怎么计算的？\n",
    "arr3.std()  #标准差，描述数据的波动大小，与数据单位相同\n",
    "arr3.var() #方差，中间过程"
   ]
  },
  {
   "cell_type": "markdown",
   "metadata": {},
   "source": [
    ">boolean被强制转换为1和0\n",
    "\n",
    ">对于布尔型数组，any检测是否存在True，all用于检测是否全为True"
   ]
  },
  {
   "cell_type": "code",
   "execution_count": 57,
   "metadata": {},
   "outputs": [
    {
     "data": {
      "text/plain": [
       "7"
      ]
     },
     "execution_count": 57,
     "metadata": {},
     "output_type": "execute_result"
    }
   ],
   "source": [
    "#sum可以用来计数\n",
    "(arr>0).sum()"
   ]
  },
  {
   "cell_type": "markdown",
   "metadata": {},
   "source": [
    "### 排序"
   ]
  },
  {
   "cell_type": "markdown",
   "metadata": {},
   "source": [
    ">sort方法，就地排序修改数组本身，np.sort()返回数组的副本，一维直接排序，多维需要传入轴向。\n",
    "\n",
    ">查找分位数"
   ]
  },
  {
   "cell_type": "code",
   "execution_count": 59,
   "metadata": {},
   "outputs": [
    {
     "data": {
      "text/plain": [
       "array([[-0.00481316, -1.32441999, -2.23037919, -0.84843255],\n",
       "       [ 0.13180097, -0.68807309, -0.34440153, -0.67607575],\n",
       "       [ 0.7207353 ,  0.41615897, -0.114606  , -0.14792464],\n",
       "       [ 1.91102954,  1.55218652,  1.4624755 ,  3.64060753]])"
      ]
     },
     "execution_count": 59,
     "metadata": {},
     "output_type": "execute_result"
    }
   ],
   "source": [
    "arr.sort(0)\n",
    "arr"
   ]
  },
  {
   "cell_type": "code",
   "execution_count": 62,
   "metadata": {},
   "outputs": [
    {
     "data": {
      "text/plain": [
       "array([[-0.00481316, -1.32441999, -2.23037919, -0.84843255],\n",
       "       [ 0.13180097, -0.68807309, -0.34440153, -0.67607575],\n",
       "       [ 0.7207353 ,  0.41615897, -0.114606  , -0.14792464],\n",
       "       [ 1.91102954,  1.55218652,  1.4624755 ,  3.64060753]])"
      ]
     },
     "execution_count": 62,
     "metadata": {},
     "output_type": "execute_result"
    }
   ],
   "source": [
    "np.sort(arr,0)"
   ]
  },
  {
   "cell_type": "markdown",
   "metadata": {},
   "source": [
    "### 集合逻辑"
   ]
  },
  {
   "cell_type": "markdown",
   "metadata": {},
   "source": [
    ">针对一维数组，进行逻辑运算"
   ]
  },
  {
   "cell_type": "code",
   "execution_count": 67,
   "metadata": {},
   "outputs": [
    {
     "data": {
      "text/plain": [
       "array([ True, False,  True,  True,  True, False,  True,  True, False,\n",
       "       False,  True,  True])"
      ]
     },
     "execution_count": 67,
     "metadata": {},
     "output_type": "execute_result"
    }
   ],
   "source": [
    "ints = np.array([1,2,3,55,3,2,55,43,64,64,43,3])\n",
    "np.unique(ints) #返回唯一值并排序\n",
    "np.in1d(ints,[1,3,43,55]) #成员资格\n",
    "#np.intersect1d(x,y) 交集有序 np.union1d(x,y) 并集有序 np.setdiff1d(x,y) 在x不在y  np.setxor1d(x,y)存在于一个不同时存在于2个"
   ]
  },
  {
   "cell_type": "code",
   "execution_count": null,
   "metadata": {},
   "outputs": [],
   "source": []
  },
  {
   "cell_type": "code",
   "execution_count": null,
   "metadata": {},
   "outputs": [],
   "source": []
  }
 ],
 "metadata": {
  "kernelspec": {
   "display_name": "Python 3",
   "language": "python",
   "name": "python3"
  },
  "language_info": {
   "codemirror_mode": {
    "name": "ipython",
    "version": 3
   },
   "file_extension": ".py",
   "mimetype": "text/x-python",
   "name": "python",
   "nbconvert_exporter": "python",
   "pygments_lexer": "ipython3",
   "version": "3.6.4"
  }
 },
 "nbformat": 4,
 "nbformat_minor": 2
}
