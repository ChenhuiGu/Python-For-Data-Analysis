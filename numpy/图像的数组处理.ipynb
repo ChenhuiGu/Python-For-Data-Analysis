{
 "cells": [
  {
   "cell_type": "markdown",
   "metadata": {},
   "source": [
    "### 图像的数组处理"
   ]
  },
  {
   "cell_type": "markdown",
   "metadata": {},
   "source": [
    "+ RGB颜色通道（从0-255）表示颜色，任意颜色对应一个RGB值\n",
    "+ PIL库,处理图像的第三方库\n",
    "+ 图像是一个由像素组成的二维矩阵，每个元素对应一个rgb值（R,G,B）"
   ]
  },
  {
   "cell_type": "code",
   "execution_count": 20,
   "metadata": {},
   "outputs": [],
   "source": [
    "from PIL import Image\n",
    "#image代表一个图像类\n",
    "import numpy as np"
   ]
  },
  {
   "cell_type": "code",
   "execution_count": 21,
   "metadata": {},
   "outputs": [],
   "source": [
    "im = np.array(Image.open('../image/离开.jpg').convert('L')).astype('float')\n",
    "#转化为2维数组，即图像只有灰度值"
   ]
  },
  {
   "cell_type": "code",
   "execution_count": 22,
   "metadata": {},
   "outputs": [
    {
     "name": "stdout",
     "output_type": "stream",
     "text": [
      "(4000, 6000) float64\n"
     ]
    }
   ],
   "source": [
    "print(im.shape,im.dtype)\n",
    "#宽度1920像素，高度1200像素"
   ]
  },
  {
   "cell_type": "markdown",
   "metadata": {},
   "source": [
    "+ 将图像数组化，就可以对其进行计算和转换"
   ]
  },
  {
   "cell_type": "code",
   "execution_count": 23,
   "metadata": {},
   "outputs": [],
   "source": [
    "# b = [255,255,255]-im\n",
    "# b = im*(100/255)+100\n",
    "# b = 255*(im/255)**2  灰度偏黑\n",
    "# b = im/255  全黑，值越大越亮"
   ]
  },
  {
   "cell_type": "code",
   "execution_count": 24,
   "metadata": {},
   "outputs": [],
   "source": [
    "#手绘效果\n",
    "depth=10                        #(0-100)\n",
    "grad=np.gradient(im)             #取图像灰度的梯度值\n",
    "grad_x,grad_y=grad              #分别取横纵图像的梯度值\n",
    "grad_x=grad_x*depth/100.\n",
    "grad_y=grad_y*depth/100.\n",
    "A=np.sqrt(grad_x**2+grad_y**2+1.)\n",
    "uni_x=grad_x/A\n",
    "uni_y=grad_y/A\n",
    "uni_z=1./A\n",
    "\n",
    "vec_el=np.pi/2.2                        #光源的俯视角度，弧度值\n",
    "vec_az=np.pi/4                          #光源的方位角度，弧度值\n",
    "dx=np.cos(vec_el)*np.cos(vec_az)        #光源对x轴的影响\n",
    "dy=np.cos(vec_el)*np.sin(vec_az)        #光源对y轴的影响\n",
    "dz=np.sin(vec_el)                       #光源对z轴的影响\n",
    "\n",
    "b=255*(dx*uni_x+dy*uni_y+dz*uni_z)      #光源归一化\n",
    "b=b.clip(0,255)"
   ]
  },
  {
   "cell_type": "code",
   "execution_count": 25,
   "metadata": {},
   "outputs": [],
   "source": [
    "im = Image.fromarray(b.astype('uint8'))"
   ]
  },
  {
   "cell_type": "code",
   "execution_count": 26,
   "metadata": {},
   "outputs": [],
   "source": [
    "im.save('../image/ting2.jpg')"
   ]
  }
 ],
 "metadata": {
  "kernelspec": {
   "display_name": "Python 3",
   "language": "python",
   "name": "python3"
  },
  "language_info": {
   "codemirror_mode": {
    "name": "ipython",
    "version": 3
   },
   "file_extension": ".py",
   "mimetype": "text/x-python",
   "name": "python",
   "nbconvert_exporter": "python",
   "pygments_lexer": "ipython3",
   "version": "3.6.4"
  }
 },
 "nbformat": 4,
 "nbformat_minor": 2
}
